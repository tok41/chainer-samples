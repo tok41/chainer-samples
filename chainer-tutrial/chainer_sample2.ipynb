{
 "cells": [
  {
   "cell_type": "markdown",
   "metadata": {},
   "source": [
    "# ChainerのExample [MNIST]\n",
    "* chainer公式チュートリアルのexampleを書く\n",
    "* http://docs.chainer.org/en/stable/tutorial/basic.html"
   ]
  },
  {
   "cell_type": "code",
   "execution_count": 1,
   "metadata": {
    "collapsed": true
   },
   "outputs": [],
   "source": [
    "%matplotlib inline"
   ]
  },
  {
   "cell_type": "code",
   "execution_count": 2,
   "metadata": {
    "collapsed": true
   },
   "outputs": [],
   "source": [
    "import numpy as np\n",
    "import chainer\n",
    "from chainer import cuda, Function, gradient_check, Variable, optimizers, serializers, utils\n",
    "from chainer import Link, Chain, ChainList\n",
    "import chainer.functions as F\n",
    "import chainer.links as L"
   ]
  },
  {
   "cell_type": "code",
   "execution_count": 3,
   "metadata": {
    "collapsed": true
   },
   "outputs": [],
   "source": [
    "import data"
   ]
  },
  {
   "cell_type": "markdown",
   "metadata": {},
   "source": [
    "## MNISTデータのダウンロード\n",
    "* 28×28ピクセル、[0,1]の値に変換"
   ]
  },
  {
   "cell_type": "code",
   "execution_count": 4,
   "metadata": {
    "collapsed": false
   },
   "outputs": [
    {
     "name": "stdout",
     "output_type": "stream",
     "text": [
      "Downloading train-images-idx3-ubyte.gz...\n",
      "Done\n",
      "Downloading train-labels-idx1-ubyte.gz...\n",
      "Done\n",
      "Downloading t10k-images-idx3-ubyte.gz...\n",
      "Done\n",
      "Downloading t10k-labels-idx1-ubyte.gz...\n",
      "Done\n",
      "Converting training data...\n",
      "Done\n",
      "Converting test data...\n",
      "Done\n",
      "Save output...\n",
      "Done\n",
      "Convert completed\n"
     ]
    }
   ],
   "source": [
    "mnist = data.load_mnist_data()"
   ]
  },
  {
   "cell_type": "code",
   "execution_count": 5,
   "metadata": {
    "collapsed": true
   },
   "outputs": [],
   "source": [
    "x_all = mnist['data'].astype(np.float32) / 255\n",
    "y_all = mnist['target'].astype(np.int32)\n",
    "x_train, x_test = np.split(x_all, [60000])\n",
    "y_train, y_test = np.split(y_all, [60000])\n"
   ]
  },
  {
   "cell_type": "code",
   "execution_count": 7,
   "metadata": {
    "collapsed": false
   },
   "outputs": [
    {
     "name": "stdout",
     "output_type": "stream",
     "text": [
      "(70000, 784)\n",
      "(60000, 784)\n",
      "(10000, 784)\n"
     ]
    }
   ],
   "source": [
    "print x_all.shape\n",
    "print x_train.shape\n",
    "print x_test.shape"
   ]
  },
  {
   "cell_type": "markdown",
   "metadata": {},
   "source": [
    "## モデルの定義\n",
    "* 4層の線形NNモデルを作る"
   ]
  },
  {
   "cell_type": "code",
   "execution_count": 8,
   "metadata": {
    "collapsed": true
   },
   "outputs": [],
   "source": [
    "class MLP(Chain):\n",
    "    def __init__(self):\n",
    "        # 各層でのlink(ネットワークのパラメータ)の定義\n",
    "        super(MLP, self).__init__(\n",
    "            l1=L.Linear(784, 100),\n",
    "            l2=L.Linear(100, 100),\n",
    "            l3=L.Linear(100, 10),\n",
    "        )\n",
    "        \n",
    "    def __call__(self, x):\n",
    "        # chainの定義\n",
    "        h1 = F.relu(self.l1(x))\n",
    "        h2 = F.relu(self.l2(h1))\n",
    "        y = self.l3(h2)\n",
    "        return y"
   ]
  },
  {
   "cell_type": "markdown",
   "metadata": {},
   "source": [
    "## ClassifierChainの定義\n",
    "* 損失関数の計算、予測精度の計算をするためのクラス\n",
    "* Classifierもchainとして書く\n",
    "* chainer.links.Classifierとして実装されているので、以下で書いたのはその下では使わない"
   ]
  },
  {
   "cell_type": "code",
   "execution_count": 17,
   "metadata": {
    "collapsed": true
   },
   "outputs": [],
   "source": [
    "class Classifier(Chain):\n",
    "    def __init__(self, predictor):\n",
    "        super(Classifier, self).__init__(predictor=predictor)\n",
    "    \n",
    "    def __call__(self, x, t):\n",
    "        y = self.predictor(x)\n",
    "        self.loss = F.softmax_cross_entropy(y, t)\n",
    "        self.accuracy = F.accuracy(y, t)\n",
    "        return self.loss"
   ]
  },
  {
   "cell_type": "markdown",
   "metadata": {},
   "source": [
    "## Optimizerの定義\n",
    "* 上で書いたClassifierクラスがlinksモジュール下に実装されているので、それを使う\n",
    "* OptimizerにはSGDを使う"
   ]
  },
  {
   "cell_type": "code",
   "execution_count": 9,
   "metadata": {
    "collapsed": true
   },
   "outputs": [],
   "source": [
    "model = L.Classifier(MLP())\n",
    "optimizer = optimizers.SGD()\n",
    "optimizer.setup(model)"
   ]
  },
  {
   "cell_type": "markdown",
   "metadata": {},
   "source": [
    "## 学習ループ"
   ]
  },
  {
   "cell_type": "code",
   "execution_count": 32,
   "metadata": {
    "collapsed": false,
    "scrolled": true
   },
   "outputs": [
    {
     "name": "stdout",
     "output_type": "stream",
     "text": [
      "epoch 0\n",
      "loss:0.0120115954902,  acc:0.998616667986\n",
      "epoch 1\n",
      "loss:0.0119287882479,  acc:0.998533334732\n",
      "epoch 2\n",
      "loss:0.0116715136427,  acc:0.998633334637\n",
      "epoch 3\n",
      "loss:0.0115923802013,  acc:0.998683334589\n",
      "epoch 4\n",
      "loss:0.0114978061043,  acc:0.998766667843\n",
      "epoch 5\n",
      "loss:0.0113368175113,  acc:0.998616667986\n",
      "epoch 6\n",
      "loss:0.0112133060052,  acc:0.998666667938\n",
      "epoch 7\n",
      "loss:0.0110510870995,  acc:0.998750001192\n",
      "epoch 8\n",
      "loss:0.0109385950762,  acc:0.998766667843\n",
      "epoch 9\n",
      "loss:0.0108498769942,  acc:0.998816667795\n",
      "epoch 10\n",
      "loss:0.0107161713192,  acc:0.998866667747\n",
      "epoch 11\n",
      "loss:0.010520609152,  acc:0.998816667795\n",
      "epoch 12\n",
      "loss:0.0104453810793,  acc:0.998933334351\n",
      "epoch 13\n",
      "loss:0.0103325763275,  acc:0.999066667557\n",
      "epoch 14\n",
      "loss:0.010146433936,  acc:0.998966667652\n",
      "epoch 15\n",
      "loss:0.0100609428678,  acc:0.998966667652\n",
      "epoch 16\n",
      "loss:0.00997522459327,  acc:0.998983334303\n",
      "epoch 17\n",
      "loss:0.00984644341321,  acc:0.999016667604\n",
      "epoch 18\n",
      "loss:0.0097248304774,  acc:0.999033334255\n",
      "epoch 19\n",
      "loss:0.0095872351209,  acc:0.999083334208\n"
     ]
    }
   ],
   "source": [
    "batchsize = 100\n",
    "datasize = 60000\n",
    "for epoch in range(20):\n",
    "    sum_accuracy = 0\n",
    "    sum_loss = 0\n",
    "    print('epoch %d' % (epoch))\n",
    "    indexes = np.random.permutation(datasize)\n",
    "    for i in range(0, datasize, batchsize):\n",
    "        x = Variable(x_train[indexes[i : i + batchsize]])\n",
    "        t = Variable(y_train[indexes[i : i + batchsize]])\n",
    "        \n",
    "        ## \n",
    "        #optimizer.update(model, x, t)\n",
    "        \n",
    "        ## 勾配を明示的に計算する場合\n",
    "        model.zerograds()\n",
    "        loss = model(x, t)\n",
    "        loss.backward()\n",
    "        optimizer.update()\n",
    "        \n",
    "        sum_loss += loss.data * len(t.data)\n",
    "        sum_accuracy += model.accuracy.data * len(t.data)\n",
    "    print('loss:%s,  acc:%s'%(sum_loss/datasize, sum_accuracy/datasize))\n"
   ]
  },
  {
   "cell_type": "code",
   "execution_count": 28,
   "metadata": {
    "collapsed": false
   },
   "outputs": [
    {
     "data": {
      "text/plain": [
       "array(0.03637012466788292, dtype=float32)"
      ]
     },
     "execution_count": 28,
     "metadata": {},
     "output_type": "execute_result"
    }
   ],
   "source": [
    "loss.data"
   ]
  },
  {
   "cell_type": "code",
   "execution_count": 16,
   "metadata": {
    "collapsed": false
   },
   "outputs": [
    {
     "data": {
      "text/plain": [
       "array(0.11869700253009796, dtype=float32)"
      ]
     },
     "execution_count": 16,
     "metadata": {},
     "output_type": "execute_result"
    }
   ],
   "source": [
    "model.loss.data"
   ]
  },
  {
   "cell_type": "code",
   "execution_count": 19,
   "metadata": {
    "collapsed": false
   },
   "outputs": [
    {
     "data": {
      "text/plain": [
       "100"
      ]
     },
     "execution_count": 19,
     "metadata": {},
     "output_type": "execute_result"
    }
   ],
   "source": [
    "len(t.data)"
   ]
  },
  {
   "cell_type": "code",
   "execution_count": null,
   "metadata": {
    "collapsed": true
   },
   "outputs": [],
   "source": []
  },
  {
   "cell_type": "markdown",
   "metadata": {},
   "source": [
    "## 学習状況の評価"
   ]
  },
  {
   "cell_type": "code",
   "execution_count": 25,
   "metadata": {
    "collapsed": false
   },
   "outputs": [
    {
     "name": "stdout",
     "output_type": "stream",
     "text": [
      "loss : 0.0791966257518,  acc : 0.976600005627\n"
     ]
    }
   ],
   "source": [
    "sum_loss, sum_accuracy = 0, 0\n",
    "for i in range(0, 10000, batchsize):\n",
    "    x = Variable(x_test[i : i + batchsize])\n",
    "    t = Variable(y_test[i : i + batchsize])\n",
    "    loss = model(x, t)\n",
    "    sum_loss += loss.data * batchsize\n",
    "    sum_accuracy += model.accuracy.data * batchsize\n",
    "\n",
    "mean_loss = sum_loss / 10000\n",
    "mean_accuracy = sum_accuracy / 10000\n",
    "print('loss : %s,  acc : %s'%(mean_loss, mean_accuracy))"
   ]
  },
  {
   "cell_type": "code",
   "execution_count": null,
   "metadata": {
    "collapsed": true
   },
   "outputs": [],
   "source": []
  }
 ],
 "metadata": {
  "kernelspec": {
   "display_name": "Python 2",
   "language": "python",
   "name": "python2"
  },
  "language_info": {
   "codemirror_mode": {
    "name": "ipython",
    "version": 2
   },
   "file_extension": ".py",
   "mimetype": "text/x-python",
   "name": "python",
   "nbconvert_exporter": "python",
   "pygments_lexer": "ipython2",
   "version": "2.7.11"
  }
 },
 "nbformat": 4,
 "nbformat_minor": 0
}
