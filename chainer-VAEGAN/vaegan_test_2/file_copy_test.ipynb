{
 "cells": [
  {
   "cell_type": "markdown",
   "metadata": {
    "toc": "true"
   },
   "source": [
    "# Table of Contents\n",
    " <p>"
   ]
  },
  {
   "cell_type": "code",
   "execution_count": 7,
   "metadata": {
    "collapsed": true
   },
   "outputs": [],
   "source": [
    "import sys, os\n",
    "import numpy as np\n",
    "import math\n",
    "from StringIO import StringIO\n",
    "import shutil\n"
   ]
  },
  {
   "cell_type": "code",
   "execution_count": 10,
   "metadata": {
    "collapsed": false
   },
   "outputs": [
    {
     "name": "stdout",
     "output_type": "stream",
     "text": [
      "index=47, from=/home/tokita/projects/cinet/YouTubePriors_flv4/DividedImages/images_resize/sample_movie/image0000047.jpg, to=/home/tokita/projects/cinet/YouTubePriors_flv4/DividedImages/images_resize/sample_train\n",
      "index=85, from=/home/tokita/projects/cinet/YouTubePriors_flv4/DividedImages/images_resize/sample_movie/image0000085.jpg, to=/home/tokita/projects/cinet/YouTubePriors_flv4/DividedImages/images_resize/sample_train\n",
      "index=83, from=/home/tokita/projects/cinet/YouTubePriors_flv4/DividedImages/images_resize/sample_movie/image0000083.jpg, to=/home/tokita/projects/cinet/YouTubePriors_flv4/DividedImages/images_resize/sample_train\n",
      "index=26, from=/home/tokita/projects/cinet/YouTubePriors_flv4/DividedImages/images_resize/sample_movie/image0000026.jpg, to=/home/tokita/projects/cinet/YouTubePriors_flv4/DividedImages/images_resize/sample_train\n",
      "index=13, from=/home/tokita/projects/cinet/YouTubePriors_flv4/DividedImages/images_resize/sample_movie/image0000013.jpg, to=/home/tokita/projects/cinet/YouTubePriors_flv4/DividedImages/images_resize/sample_train\n",
      "index=68, from=/home/tokita/projects/cinet/YouTubePriors_flv4/DividedImages/images_resize/sample_movie/image0000068.jpg, to=/home/tokita/projects/cinet/YouTubePriors_flv4/DividedImages/images_resize/sample_train\n",
      "index=42, from=/home/tokita/projects/cinet/YouTubePriors_flv4/DividedImages/images_resize/sample_movie/image0000042.jpg, to=/home/tokita/projects/cinet/YouTubePriors_flv4/DividedImages/images_resize/sample_train\n",
      "index=84, from=/home/tokita/projects/cinet/YouTubePriors_flv4/DividedImages/images_resize/sample_movie/image0000084.jpg, to=/home/tokita/projects/cinet/YouTubePriors_flv4/DividedImages/images_resize/sample_train\n",
      "index=51, from=/home/tokita/projects/cinet/YouTubePriors_flv4/DividedImages/images_resize/sample_movie/image0000051.jpg, to=/home/tokita/projects/cinet/YouTubePriors_flv4/DividedImages/images_resize/sample_train\n",
      "index=61, from=/home/tokita/projects/cinet/YouTubePriors_flv4/DividedImages/images_resize/sample_movie/image0000061.jpg, to=/home/tokita/projects/cinet/YouTubePriors_flv4/DividedImages/images_resize/sample_train\n"
     ]
    }
   ],
   "source": [
    "from_dir = \"/home/tokita/projects/cinet/YouTubePriors_flv4/DividedImages/images_resize/sample_movie\"\n",
    "to_dir = \"/home/tokita/projects/cinet/YouTubePriors_flv4/DividedImages/images_resize/sample_train\"\n",
    "\n",
    "fs = os.listdir(from_dir)\n",
    "N = len(fs)\n",
    "\n",
    "ind = np.random.permutation(N)[:10]\n",
    "\n",
    "for i in ind:\n",
    "    print 'index={}, from={}/{}, to={}'.format(i, from_dir, fs[i], to_dir)\n",
    "    shutil.copy('{}/{}'.format(from_dir, fs[i]), '{}/{}'.format(to_dir, fs[i]))\n"
   ]
  },
  {
   "cell_type": "code",
   "execution_count": null,
   "metadata": {
    "collapsed": true
   },
   "outputs": [],
   "source": []
  }
 ],
 "metadata": {
  "kernelspec": {
   "display_name": "Python 2",
   "language": "python",
   "name": "python2"
  },
  "language_info": {
   "codemirror_mode": {
    "name": "ipython",
    "version": 2
   },
   "file_extension": ".py",
   "mimetype": "text/x-python",
   "name": "python",
   "nbconvert_exporter": "python",
   "pygments_lexer": "ipython2",
   "version": "2.7.12"
  },
  "nav_menu": {},
  "toc": {
   "navigate_menu": true,
   "number_sections": true,
   "sideBar": true,
   "threshold": 6,
   "toc_cell": true,
   "toc_section_display": "block",
   "toc_window_display": false
  }
 },
 "nbformat": 4,
 "nbformat_minor": 0
}
