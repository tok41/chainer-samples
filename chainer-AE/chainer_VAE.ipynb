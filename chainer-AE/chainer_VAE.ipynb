{
 "cells": [
  {
   "cell_type": "markdown",
   "metadata": {},
   "source": [
    "# ChainerでVAEを書いてみる\n",
    "* 以下のページを参考に\n",
    "  * https://github.com/RyotaKatoh/chainer-Variational-AutoEncoder\n",
    "* VAEについては以下を参照した\n",
    "  * http://papers.nips.cc/paper/5352-semi-supervised-learning-with-deep-generative-models.pdf\n",
    "  * http://deeplearning.jp/wp-content/uploads/2014/04/dl_hacks2015-04-21-iwasawa1.pdf\n"
   ]
  },
  {
   "cell_type": "code",
   "execution_count": 1,
   "metadata": {
    "collapsed": true
   },
   "outputs": [],
   "source": [
    "%matplotlib inline\n",
    "import sys, os\n",
    "import numpy as np\n",
    "import pandas as pd\n",
    "\n",
    "import chainer\n",
    "from chainer import cuda, Function, gradient_check, Variable, optimizers, serializers, utils\n",
    "from chainer import Link, Chain, ChainList\n",
    "import chainer.functions as F\n",
    "import chainer.links as L\n",
    "\n",
    "import six\n",
    "\n",
    "import matplotlib.pyplot as plt"
   ]
  },
  {
   "cell_type": "code",
   "execution_count": 2,
   "metadata": {
    "collapsed": true
   },
   "outputs": [],
   "source": [
    "# chainer exampleに付属のdata.pyをimportする. mnistのダウンロードのため\n",
    "import data"
   ]
  },
  {
   "cell_type": "markdown",
   "metadata": {},
   "source": [
    "## GPU設定"
   ]
  },
  {
   "cell_type": "code",
   "execution_count": 3,
   "metadata": {
    "collapsed": false
   },
   "outputs": [],
   "source": [
    "gpu_flag = -1\n",
    "if gpu_flag >= 0:\n",
    "    cuda.check_cuda_available()\n",
    "xp = cuda.cupy if gpu_flag >= 0 else np"
   ]
  },
  {
   "cell_type": "markdown",
   "metadata": {},
   "source": [
    "## MNISTデータのダウンロードといくつかプロットして確認"
   ]
  },
  {
   "cell_type": "code",
   "execution_count": 5,
   "metadata": {
    "collapsed": false
   },
   "outputs": [],
   "source": [
    "mnist = data.load_mnist_data()\n",
    "# 70,000の手書き数字データ"
   ]
  },
  {
   "cell_type": "code",
   "execution_count": 6,
   "metadata": {
    "collapsed": true
   },
   "outputs": [],
   "source": [
    "# 手書き数字データを描画する関数\n",
    "def draw_digit(data):\n",
    "    size = 28\n",
    "    plt.figure(figsize=(2, 2))\n",
    "\n",
    "    X, Y = np.meshgrid(range(size),range(size))\n",
    "    Z = data.reshape(size,size)   # convert from vector to 28x28 matrix\n",
    "    Z = Z[::-1,:]             # flip vertical\n",
    "    plt.xlim(0,27)\n",
    "    plt.ylim(0,27)\n",
    "    plt.pcolor(X, Y, Z)\n",
    "    plt.gray()\n",
    "    plt.tick_params(labelbottom=\"off\")\n",
    "    plt.tick_params(labelleft=\"off\")\n",
    "\n",
    "    plt.show()\n",
    "\n",
    "# いくつかプロット\n",
    "def draw_digit_multi(data, n=10):\n",
    "    # サンプラー\n",
    "    indexes = np.random.permutation( len(data) )[:n]\n",
    "    # \n",
    "    size = 28\n",
    "    plt.figure(figsize=(15, 2))\n",
    "    # plot\n",
    "    cnt = 1\n",
    "    for idx in indexes:\n",
    "        plt.subplot(1, n, cnt)\n",
    "        X, Y = np.meshgrid(range(size),range(size))\n",
    "        Z = data[idx].reshape(size,size)   # convert from vector to 28x28 matrix\n",
    "        Z = Z[::-1,:]\n",
    "        plt.xlim(0, size-1)\n",
    "        plt.ylim(0, size-1)\n",
    "        plt.pcolor(X, Y, Z)\n",
    "        plt.gray()\n",
    "        plt.tick_params(labelbottom=\"off\")\n",
    "        plt.tick_params(labelleft=\"off\")\n",
    "        cnt+=1\n",
    "    plt.show()\n",
    "    return indexes"
   ]
  },
  {
   "cell_type": "code",
   "execution_count": 7,
   "metadata": {
    "collapsed": false
   },
   "outputs": [
    {
     "data": {
      "image/png": "[encoded data removed]",
      "text/plain": [
       "<matplotlib.figure.Figure at 0x112a22d10>"
      ]
     },
     "metadata": {},
     "output_type": "display_data"
    },
    {
     "name": "stdout",
     "output_type": "stream",
     "text": [
      "labels : \n",
      "[3 2 3 8 7 2 8 3 0 6]\n"
     ]
    }
   ],
   "source": [
    "idxs = draw_digit_multi(mnist['data'])\n",
    "print \"labels : \"\n",
    "print mnist['target'][idxs]"
   ]
  },
  {
   "cell_type": "markdown",
   "metadata": {
    "collapsed": true
   },
   "source": [
    "## パラメータの設定"
   ]
  },
  {
   "cell_type": "code",
   "execution_count": 9,
   "metadata": {
    "collapsed": true
   },
   "outputs": [],
   "source": [
    "batchsize = 100 # ミニバッチのサイズ\n",
    "n_epoch = 5     # epoch数\n",
    "n_latent = 100   # 潜在変数の次元(DCGANで言うところのプライヤーベクトルの次元)\n",
    "\n",
    "# Optimizer\n",
    "al = 0.001\n",
    "b1 = 0.9\n",
    "b2 = 0.999"
   ]
  },
  {
   "cell_type": "markdown",
   "metadata": {},
   "source": [
    "## データの前処理\n",
    "* [0,1]の範囲に正規化\n",
    "* float32, int32に変換"
   ]
  },
  {
   "cell_type": "code",
   "execution_count": 10,
   "metadata": {
    "collapsed": false
   },
   "outputs": [],
   "source": [
    "# 正規化\n",
    "mnist['data'] = mnist['data'].astype(np.float32)\n",
    "mnist['data'] /= 255\n",
    "mnist['target'] = mnist['target'].astype(np.int32)\n",
    "# 訓練データとテストデータに分割\n",
    "N = 60000\n",
    "x_train, x_test = np.split(mnist['data'],   [N])\n",
    "y_train, y_test = np.split(mnist['target'], [N])\n",
    "N_test = y_test.size"
   ]
  },
  {
   "cell_type": "markdown",
   "metadata": {},
   "source": [
    "## モデルの定義\n",
    "* 公式exampleではnet.pyとして別ファイルになっている"
   ]
  },
  {
   "cell_type": "code",
   "execution_count": 11,
   "metadata": {
    "collapsed": true
   },
   "outputs": [],
   "source": [
    "# 変分誤差を計算するためにKLダイバージェンスの関数をimportしておく\n",
    "from chainer.functions.loss.vae import gaussian_kl_divergence"
   ]
  },
  {
   "cell_type": "code",
   "execution_count": 12,
   "metadata": {
    "collapsed": false
   },
   "outputs": [],
   "source": [
    "class VAE(chainer.Chain):\n",
    "    \"\"\"Variational AutoEncoder\"\"\"\n",
    "    def __init__(self, n_in, n_latent, n_h):\n",
    "        super(VAE, self).__init__(\n",
    "            ## ネットワーク構造の定義\n",
    "            # encoder\n",
    "            le1=L.Linear(n_in, n_h),\n",
    "            le2_mu=L.Linear(n_h, n_latent),\n",
    "            le2_ln_var=L.Linear(n_h, n_latent),\n",
    "            # decoder\n",
    "            ld1=L.Linear(n_latent, n_h),\n",
    "            ld2=L.Linear(n_h, n_in),\n",
    "        )\n",
    "\n",
    "    def __call__(self, x, sigmoid=True):\n",
    "        \"\"\"AutoEncoder\"\"\"\n",
    "        # 下記、encodeとdecodeの中身をこの中に書いても良いがencodeとｄｅｃｏｄｅは他でも使うので再利用性を高めるために\n",
    "        return self.decode(self.encode(x)[0], sigmoid)\n",
    "    \n",
    "    def encode(self, x):\n",
    "        # 推論モデル, 中間表現のベクトルqを学習\n",
    "        h1 = F.tanh(self.le1(x))\n",
    "        mu = self.le2_mu(h1)\n",
    "        ln_var = self.le2_ln_var(h1)  # log(sigma**2)\n",
    "        return mu, ln_var\n",
    "\n",
    "    def decode(self, z, sigmoid=True):\n",
    "        # 中間表現ベクトルqを入力として(z), 画像を生成\n",
    "        h1 = F.tanh(self.ld1(z))\n",
    "        h2 = self.ld2(h1)\n",
    "        if sigmoid:\n",
    "            return F.sigmoid(h2)\n",
    "        else:\n",
    "            return h2\n",
    "\n",
    "    def get_loss_func(self, C=1.0, k=1, train=True):\n",
    "        \"\"\"Get loss function of VAE.\n",
    "        The loss value is equal to ELBO (Evidence Lower Bound)\n",
    "        multiplied by -1.\n",
    "        Args:\n",
    "            C (int): Usually this is 1.0. Can be changed to control the\n",
    "                second term of ELBO bound, which works as regularization.\n",
    "            k (int): Number of Monte Carlo samples used in encoded vector.\n",
    "            train (bool): If true loss_function is used for training.\n",
    "        \"\"\"\n",
    "        def lf(x):\n",
    "            mu, ln_var = self.encode(x)\n",
    "            batchsize = len(mu.data)\n",
    "            # reconstruction loss\n",
    "            rec_loss = 0\n",
    "            for l in six.moves.range(k):\n",
    "                z = F.gaussian(mu, ln_var)\n",
    "                rec_loss += F.bernoulli_nll(x, self.decode(z, sigmoid=False)) / (k * batchsize)\n",
    "            self.rec_loss = rec_loss\n",
    "            self.loss = self.rec_loss + C * gaussian_kl_divergence(mu, ln_var) / batchsize\n",
    "            return self.loss\n",
    "        return lf"
   ]
  },
  {
   "cell_type": "markdown",
   "metadata": {},
   "source": [
    "## VAEモデルとOptimizerを設定して学習の準備をする"
   ]
  },
  {
   "cell_type": "code",
   "execution_count": 13,
   "metadata": {
    "collapsed": false
   },
   "outputs": [],
   "source": [
    "# モデルの設定\n",
    "model = VAE(784, n_latent, 500) # VAE(n_in, n_latent, n_h)  input=28*28=784\n",
    "if gpu_flag >= 0:\n",
    "    cuda.get_device(gpu_flag).use()\n",
    "    model.to_gpu()\n",
    "xp = np if gpu_flag < 0 else cuda.cupy"
   ]
  },
  {
   "cell_type": "code",
   "execution_count": 14,
   "metadata": {
    "collapsed": true
   },
   "outputs": [],
   "source": [
    "# Optimizerを定義する\n",
    "optimizer = optimizers.Adam(alpha=al, beta1=b1, beta2=b2)\n",
    "optimizer.setup(model)"
   ]
  },
  {
   "cell_type": "markdown",
   "metadata": {},
   "source": [
    "## 学習の実施"
   ]
  },
  {
   "cell_type": "code",
   "execution_count": 15,
   "metadata": {
    "collapsed": false,
    "scrolled": true
   },
   "outputs": [
    {
     "name": "stdout",
     "output_type": "stream",
     "text": [
      "('epoch', 1)\n",
      "train mean loss=164.560822194, mean reconstruction loss=136.077409337\n",
      "('epoch', 2)\n",
      "train mean loss=130.523265165, mean reconstruction loss=98.839089241\n",
      "('epoch', 3)\n",
      "train mean loss=121.788123347, mean reconstruction loss=90.5282515971\n",
      "('epoch', 4)\n",
      "train mean loss=118.128175748, mean reconstruction loss=87.2907834371\n",
      "('epoch', 5)\n",
      "train mean loss=115.770647087, mean reconstruction loss=85.4614665604\n"
     ]
    }
   ],
   "source": [
    "for epoch in six.moves.range(1, n_epoch + 1):\n",
    "    print('epoch', epoch)\n",
    "    \n",
    "    # training\n",
    "    ## 訓練データのsampler\n",
    "    perm = np.random.permutation(N)\n",
    "    ## lossのbuffer\n",
    "    sum_loss = 0       # total loss\n",
    "    sum_rec_loss = 0   # reconstruction loss\n",
    "    ## バッチ学習\n",
    "    for i in six.moves.range(0, N, batchsize):\n",
    "        x = chainer.Variable(xp.asarray(x_train[perm[i:i + batchsize]])) # バッチ分のデータの抽出\n",
    "        # optimizerのupdateメソッドにloss関数とデータを与える　こうすると中でいろいろやってくれる\n",
    "        optimizer.update(model.get_loss_func(), x)\n",
    "        # 勾配を明示的に計算する場合\n",
    "        ## loss-functionがちょっとわかんないので、後で試す\n",
    "        #model.zerograds()\n",
    "        #loss = model(x, t)\n",
    "        #loss.backward()\n",
    "        #optimizer.update()\n",
    "        \n",
    "        # chainer.computational_graphは1.7からの実装\n",
    "\n",
    "        sum_loss += float(model.loss.data) * len(x.data)\n",
    "        sum_rec_loss += float(model.rec_loss.data) * len(x.data)\n",
    "\n",
    "    print('train mean loss={}, mean reconstruction loss={}'.format(sum_loss / N, sum_rec_loss / N))"
   ]
  },
  {
   "cell_type": "markdown",
   "metadata": {},
   "source": [
    "### 結果の確認"
   ]
  },
  {
   "cell_type": "code",
   "execution_count": 16,
   "metadata": {
    "collapsed": false
   },
   "outputs": [],
   "source": [
    "train_ind = [1, 3, 5, 10, 2, 0, 13, 15, 17]\n",
    "x = chainer.Variable(xp.asarray(x_train[train_ind]), volatile='on')\n",
    "x1 = model(x)"
   ]
  },
  {
   "cell_type": "code",
   "execution_count": 39,
   "metadata": {
    "collapsed": false
   },
   "outputs": [
    {
     "data": {
      "image/png": "[encoded data removed]",
      "text/plain": [
       "<matplotlib.figure.Figure at 0x12d311910>"
      ]
     },
     "metadata": {},
     "output_type": "display_data"
    }
   ],
   "source": [
    "data = x1.data\n",
    "\n",
    "def draw_digit2(data):\n",
    "    size = 28\n",
    "    n = data.shape[0]\n",
    "    plt.figure(figsize=(n, 2))\n",
    "    \n",
    "    cnt = 1\n",
    "    for idx in np.arange(n):\n",
    "        plt.subplot(1, n, cnt)\n",
    "        X, Y = np.meshgrid(range(size),range(size))\n",
    "        Z = data[idx].reshape(size,size)   # convert from vector to 28x28 matrix\n",
    "        Z = Z[::-1,:]             # flip vertical\n",
    "        plt.xlim(0,27)\n",
    "        plt.ylim(0,27)\n",
    "        plt.pcolor(X, Y, Z)\n",
    "        plt.gray()\n",
    "        plt.tick_params(labelbottom=\"off\")\n",
    "        plt.tick_params(labelleft=\"off\")\n",
    "        cnt+=1\n",
    "    plt.show()\n",
    "\n",
    "draw_digit2(data)"
   ]
  },
  {
   "cell_type": "code",
   "execution_count": 41,
   "metadata": {
    "collapsed": true
   },
   "outputs": [],
   "source": [
    "# draw images from randomly sampled z\n",
    "z = chainer.Variable(xp.random.normal(0, 1, (9, n_latent)).astype(np.float32))\n",
    "x = model.decode(z)"
   ]
  },
  {
   "cell_type": "code",
   "execution_count": 42,
   "metadata": {
    "collapsed": false,
    "scrolled": true
   },
   "outputs": [
    {
     "data": {
      "image/png": "[encoded data removed]",
      "text/plain": [
       "<matplotlib.figure.Figure at 0x1150f2090>"
      ]
     },
     "metadata": {},
     "output_type": "display_data"
    }
   ],
   "source": [
    "draw_digit2(x.data)"
   ]
  },
  {
   "cell_type": "code",
   "execution_count": null,
   "metadata": {
    "collapsed": true
   },
   "outputs": [],
   "source": []
  }
 ],
 "metadata": {
  "kernelspec": {
   "display_name": "Python 2",
   "language": "python",
   "name": "python2"
  },
  "language_info": {
   "codemirror_mode": {
    "name": "ipython",
    "version": 2
   },
   "file_extension": ".py",
   "mimetype": "text/x-python",
   "name": "python",
   "nbconvert_exporter": "python",
   "pygments_lexer": "ipython2",
   "version": "2.7.11"
  }
 },
 "nbformat": 4,
 "nbformat_minor": 0
}
